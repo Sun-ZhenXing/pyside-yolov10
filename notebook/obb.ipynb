{
 "cells": [
  {
   "cell_type": "markdown",
   "metadata": {},
   "source": [
    "# YOLOv8 OBB 旋转框检测"
   ]
  },
  {
   "cell_type": "markdown",
   "metadata": {},
   "source": [
    "## 训练\n",
    "\n",
    "下面使用 [Dataset 1000 Image Dataset](https://universe.roboflow.com/open-images-conversion/dataset-1000/) 快递单数据集来训练。"
   ]
  },
  {
   "cell_type": "code",
   "execution_count": null,
   "metadata": {},
   "outputs": [],
   "source": [
    "import os\n",
    "\n",
    "from ultralytics import YOLO\n",
    "\n",
    "os.environ[\"WANDB_DISABLED\"] = \"true\"\n",
    "\n",
    "DATA_PATH = \"E:/Datasets/Roboflow/dataset-1000/data.yaml\"\n",
    "model = YOLO(\"../models/yolov8m-obb.pt\")\n",
    "\n",
    "results = model.train(data=DATA_PATH, epochs=100, imgsz=640, seed=20242024, batch=-1)"
   ]
  },
  {
   "cell_type": "markdown",
   "metadata": {},
   "source": [
    "### Tensorboard 可视化\n",
    "\n",
    "```bash\n",
    "tensorboard --logdir notebook/runs/obb/train\n",
    "```\n",
    "\n",
    "如果你的训练被中断，使用下面的代码恢复训练："
   ]
  },
  {
   "cell_type": "code",
   "execution_count": null,
   "metadata": {},
   "outputs": [],
   "source": []
  }
 ],
 "metadata": {
  "kernelspec": {
   "display_name": "venv",
   "language": "python",
   "name": "python3"
  },
  "language_info": {
   "codemirror_mode": {
    "name": "ipython",
    "version": 3
   },
   "file_extension": ".py",
   "mimetype": "text/x-python",
   "name": "python",
   "nbconvert_exporter": "python",
   "pygments_lexer": "ipython3",
   "version": "3.10.11"
  }
 },
 "nbformat": 4,
 "nbformat_minor": 2
}
